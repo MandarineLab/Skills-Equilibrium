{
 "cells": [
  {
   "cell_type": "markdown",
   "metadata": {},
   "source": [
    "## DESNUTRICIÓN INFANTIL - ENDES 2023\n",
    "\n",
    "La  desnutrición  es  un  desafío  actual  y  un  problema  que  afecta  a  millones de  personas en  todo  el  mundo.   En  el  caso  específico  del  Perú,  este  problema  se  ha  transformado en  una  situación  alarmante   que  perjudica  especialmente  a  los  niños  y  niñas.   Según la <a href=\"https://www.who.int/es/news-room/fact-sheets/detail/malnutrition\"> Organización Mundial de la Salud (OMS) </a>, en nuestro país se estima que alrededor de un tercio de los niños menores de cinco años sufren desnutrición crónica, lo cual implica que no reciben los nutrientes necesarios para un desarrollo óptimo físico y mental.  Cabe destacar  que, la desnutrición infantil  conlleva  a  una  mayor  susceptibilidad a enfermedades  e infecciones; situación  que se agrava  aún  más  en las zonas  rurales y comunidades  indígenas debido  a las condiciones  de vida  precarias y al acceso limitado a alimentos  nutritivos.\n"
   ]
  },
  {
   "cell_type": "markdown",
   "metadata": {},
   "source": [
    "**Objetivo** "
   ]
  },
  {
   "cell_type": "markdown",
   "metadata": {},
   "source": [
    "\n",
    "Analizar  los determinantes  de la desnutrición  infantil  en el  Perú  para  así identificar  las causas  subyacentes  de este  prob­lema  y  proponer  posibles  alternativas  para  combatirlo  de  manera  eficiente.   Asimismo, para  llevar  a  cabo  este estudio, se analizaron indicadores nutricionales de la <a href=\"https://proyectos.inei.gob.pe/endes/\"> Encuesta Demográfica y  de Salud Familiar (ENDES)</a>  a partir de datos del 2023 y se realizó un análisis exhaustivo de revisión literaria. A través de esto, se pretende invesitgar cómo factores socioeconómicos, ambientales, nutricionales y culturales influyen en la prevalencia  de  la desnutrición infantil en el país. Es viable señalar que se encontraron asociaciones con factores como sexo del niño, edad del niño, zona de residencia, región, educación de la madre y del padre, nivel de riqueza, estrato, disponibilidad de la red pública de agua, entre otros."
   ]
  },
  {
   "cell_type": "markdown",
   "metadata": {},
   "source": [
    "**Base de Datos**"
   ]
  },
  {
   "cell_type": "markdown",
   "metadata": {},
   "source": [
    "Los datos provienen de la Encuesta Demográfica y de Salud Familiar (ENDES) del <a href=\"https://proyectos.inei.gob.pe/microdatos/\"> Instituto Nacional de Estadística e Informática (INEI)</a>. Se utlizó la base de datos del 2023, usando las características del hogar (módulo 1629), características de la vivienda (módulo 1630), información sobre peso, talla y anemia (módulo 1638).\n",
    "\n",
    "![Diccionario](Diccionario.png)\n",
    "\n",
    "\n"
   ]
  }
 ],
 "metadata": {
  "language_info": {
   "name": "python"
  }
 },
 "nbformat": 4,
 "nbformat_minor": 2
}
