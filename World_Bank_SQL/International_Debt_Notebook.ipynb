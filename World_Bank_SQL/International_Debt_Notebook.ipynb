{
 "cells": [
  {
   "cell_type": "markdown",
   "metadata": {
    "dc": {
     "key": "4"
    },
    "deletable": false,
    "editable": false,
    "run_control": {
     "frozen": true
    },
    "tags": [
     "context"
    ]
   },
   "source": [
    "## Datos sobre la deuda internacional del Banco Mundial\n",
    "<p>Los países, al igual que los seres humanos, se endeudan para gestionar su economía. Por ejemplo, el gasto en infraestructura es un ingrediente costoso que los ciudadanos de un país necesitan para llevar una vida cómoda. es la organización que otorga deuda a los países. \n",
    "<p>En este notebook, analizaremos los datos de deuda internacional recopilados por el  <a href=\"https://www.worldbank.org\">Banco Mundial</a> . El conjunto de datos contiene información sobre el monto de deuda (en dólares estadounidenses) que tienen los países en desarrollo en varias categorías. Encontraremos las respuestas a preguntas como: </p>\n",
    "<ul>\n",
    "<li>¿Cuál es el monto total de deuda que tienen los países enumerados en el conjunto de datos?</li>\n",
    "<li>¿Qué país posee la mayor cantidad de deuda y cuál es ese monto?</li>\n",
    "<li>¿Cuál es el monto promedio de deuda que tienen los países en diferentes indicadores de deuda?</li>\n",
    "</ul>\n",
    "<p>La primera línea de código nos conecta a la base de datos <code>debts world bank</code> donde se encuentra la tabla <code>international_debt_clean</code>. Primero, seleccionemos <code>todas</em> las columnas de la tabla <code>international_debt_clean</code>. "
   ]
  },
  {
   "cell_type": "markdown",
   "metadata": {},
   "source": [
    "```sql\n",
    "SELECT *\n",
    "FROM international_debt_clean"
   ]
  },
  {
   "cell_type": "markdown",
   "metadata": {
    "dc": {
     "key": "12"
    },
    "deletable": false,
    "editable": false,
    "run_control": {
     "frozen": true
    },
    "tags": [
     "context"
    ]
   },
   "source": [
    "## 1. Encontrando el número de países distintos\n",
    "<p>En las primeras 13 filas, podemos ver la cantidad de deuda que tiene <em>Afganistán</em> en los diferentes indicadores de deuda. Pero no sabemos el número de países distintos que tenemos en la tabla. Hay repeticiones en los nombres de los países porque es más probable que un país tenga deuda en más de un indicador de deuda. </p>\n",
    "<p>Sin un recuento de países únicos, no podremos realizar nuestros análisis estadísticos de manera holística. En esta sección, extraemos el número de países únicos presentes en la tabla. </p>"
   ]
  },
  {
   "cell_type": "markdown",
   "metadata": {},
   "source": [
    "```sql\n",
    "SELECT \n",
    "    COUNT(DISTINCT \"country_name\") AS total_distinct_countries"
   ]
  },
  {
   "cell_type": "markdown",
   "metadata": {
    "dc": {
     "key": "20"
    },
    "deletable": false,
    "editable": false,
    "run_control": {
     "frozen": true
    },
    "tags": [
     "context"
    ]
   },
   "source": [
    "## 2. Conociendo los distintos indicadores de deuda\n",
    "<p>Podemos ver que hay un total de 120 países presentes en la tabla. Como vimos en la primera sección, hay una columna llamada <code>indicator_name</code> que especifica brevemente el propósito de la deuda. Justo al lado de esa columna, hay otra columna llamada <code>indicator_code</code> que simboliza la categoría de estas deudas. Conocer estos distintos indicadores de deuda nos ayuda a comprender las áreas en las que un país puede estar endeudado. </p>"
   ]
  },
  {
   "cell_type": "markdown",
   "metadata": {},
   "source": [
    "```sql\n",
    "SELECT DISTINCT indicator_code AS distinct_debt_indicators\n",
    "FROM international_debt_clean\n",
    "ORDER BY distinct_debt_indicators"
   ]
  },
  {
   "cell_type": "markdown",
   "metadata": {
    "dc": {
     "key": "28"
    },
    "deletable": false,
    "editable": false,
    "run_control": {
     "frozen": true
    },
    "tags": [
     "context"
    ]
   },
   "source": [
    "## 3. Totalizando las deuda de los países\n",
    "<p>Como se mencionó anteriormente, la deuda financiera de un país en particular representa su estado económico. Pero si tuviéramos que proyectarla a escala global, ¿cómo lo abordaríamos?</p>\n",
    "<p>Veamos el monto total de deuda (en USD) que tienen los diferentes países. Esto nos dará una idea de cómo se mantiene la economía general del mundo entero.</p>"
   ]
  },
  {
   "cell_type": "markdown",
   "metadata": {},
   "source": [
    "```sql\n",
    "SELECT \n",
    "    ROUND(SUM(debt) / 1000000, 2) AS total_debt  \n",
    "FROM international_debt_clean;"
   ]
  },
  {
   "cell_type": "markdown",
   "metadata": {
    "dc": {
     "key": "36"
    },
    "deletable": false,
    "editable": false,
    "run_control": {
     "frozen": true
    },
    "tags": [
     "context"
    ]
   },
   "source": [
    "## 4. País con la mayor deuda\n",
    "<p>Ahora que tenemos el total exacto de las cantidades de deuda que deben varios países, averigüamos el país que posee la mayor cantidad de deuda junto con la cantidad. Para ello, debo <strong>tener en cuenta</strong> que esta deuda es la suma de diferentes deudas que debe un país en varias categorías. Esto me ayudará a comprender más sobre el país en términos de sus escenarios socioeconómicos. </p>\n",
    "\n",
    "```sql\n",
    "SELECT TOP 1\n",
    "    country_name, \n",
    "    SUM(debt) AS total_debt\n",
    "FROM international_debt_clean\n",
    "GROUP BY country_name\n",
    "ORDER BY total_debt DESC;"
   ]
  },
  {
   "cell_type": "markdown",
   "metadata": {
    "dc": {
     "key": "44"
    },
    "deletable": false,
    "editable": false,
    "run_control": {
     "frozen": true
    },
    "tags": [
     "context"
    ]
   },
   "source": [
    "## 5. Monto promedio de deuda en todos los indicadores\n",
    "<p>Vemos entonces que es <em>China</em>. Podemos encontrar un desglose más detallado de las deudas de China <a href=\"https://datatopics.worldbank.org/debt/ids/country/CHN\">aquí</a>. </p>\n",
    "<p>Ahora tenemos una breve descripción general del conjunto de datos y algunas de sus estadísticas resumidas. Además, tenemos una idea de los diferentes indicadores de deuda en los que los países deben sus deudas. Podemos investigar aún más para averiguar en promedio cuánta deuda debe un país. Esto nos dará una mejor idea de la distribución de la cantidad de deuda en diferentes indicadores.</p>\n",
    "\n",
    "```sql\n",
    "SELECT TOP 10\n",
    "    indicator_code AS debt_indicator,\n",
    "    indicator_name,\n",
    "    AVG(debt) AS average_debt\n",
    "FROM international_debt_clean\n",
    "GROUP BY indicator_code, indicator_name\n",
    "ORDER BY average_debt DESC;"
   ]
  },
  {
   "cell_type": "markdown",
   "metadata": {
    "dc": {
     "key": "52"
    },
    "deletable": false,
    "editable": false,
    "run_control": {
     "frozen": true
    },
    "tags": [
     "context"
    ]
   },
   "source": [
    "## 6. El mayor monto de reembolsos de capital\n",
    "<p>Podemos ver que el indicador <code>DT.AMT.DLXF.CD</code> encabeza el gráfico de deuda promedio. Esta categoría incluye el reembolso de deudas a largo plazo. Los países se endeudan a largo plazo para adquirir capital inmediato. Podemos encontrar más información sobre esta categoría <a href=\"https://datacatalog.worldbank.org/principal-repayments-external-debt-long-term-amt-current-us-0\">aquí</a>. </p>\n",
    "<p>Una observación interesante en el hallazgo anterior es que hay una gran diferencia en los montos de los indicadores después del segundo. Esto indica que los primeros dos indicadores podrían ser las categorías más severas en las que los países deben sus deudas.</p>\n",
    "<p>Podemos investigar esto un poco más para averiguar qué país debe la mayor cantidad de deuda en la categoría de deudas a largo plazo (<code>DT.AMT.DLXF.CD</code>). Dado que no todos los países sufren el mismo tipo de perturbaciones económicas, este hallazgo nos permite comprender un poco más específicamente la condición económica de ese país en particular.\n",
    "\n",
    "```sql\n",
    "SELECT \n",
    "    country_name, \n",
    "    indicator_name\n",
    "FROM international_debt_clean\n",
    "WHERE debt = (SELECT \n",
    "                 MAX(debt)\n",
    "             FROM international_debt_clean\n",
    "             WHERE indicator_code = 'DT.AMT.DLXF.CD');"
   ]
  },
  {
   "cell_type": "markdown",
   "metadata": {
    "dc": {
     "key": "60"
    },
    "deletable": false,
    "editable": false,
    "run_control": {
     "frozen": true
    },
    "tags": [
     "context"
    ]
   },
   "source": [
    "## 7. El indicador de deuda más común\n",
    "<p>China tiene la mayor cantidad de deuda en la categoría de deuda a largo plazo (DT.AMT.DLXF.CD). Esto se verifica en el <a href=\"https://data.worldbank.org/indicator/DT.AMT.DLXF.CD?end=2018&most_recent_value_desc=true\">Banco Mundial</a>. \n",
    "<p>Vimos que la deuda a largo plazo es la categoría más alta cuando se trata del monto promedio de deuda. Pero, ¿es el indicador más común en el que los países deben su deuda? </p>\n",
    "\n",
    "```sql\n",
    "SELECT TOP 20\n",
    "    indicator_code, \n",
    "    COUNT(indicator_code) AS indicator_count\n",
    "FROM international_debt_clean\n",
    "GROUP BY indicator_code\n",
    "ORDER BY indicator_count DESC, indicator_code DESC;"
   ]
  },
  {
   "cell_type": "markdown",
   "metadata": {
    "dc": {
     "key": "68"
    },
    "deletable": false,
    "editable": false,
    "run_control": {
     "frozen": true
    },
    "tags": [
     "context"
    ]
   },
   "source": [
    "## 8. Otros problemas de deuda viables y conclusión\n",
    "<p>Hay un total de seis indicadores de deuda en los que todos los países enumerados en nuestro conjunto de datos han contraído deuda. El indicador <code>DT.AMT.DLXF.CD</code> también está en la lista. Por lo tanto, esto nos da una pista de que todos estos países están sufriendo un problema económico común. Pero ese no es el final de la historia, sino una parte de ella. </p>\n",
    "<p>Otro tema importante es la cantidad de deuda. Averigüamos la cantidad máxima de deuda en los indicadores junto con los respectivos nombres de los países. Con esto, estamos en condiciones de identificar otros problemas económicos plausibles por los que podría estar atravesando un país. De esta manera, podemos ver los indicadores de deuda en los que un país tiene la deuda más alta. </p>\n",
    "<p>En este notebook, revisé la deuda de los países de todo el mundo. Extraje algunas estadísticas resumidas de los datos y descubrí algunos datos y cifras interesantes. También validé los hallazgos para asegurar de que las investigaciones sean correctas.\n",
    "\n",
    "```sql\n",
    "SELECT TOP 10\n",
    "    country_name,\n",
    "    MAX(debt) AS maximum_debt\n",
    "FROM international_debt_clean\n",
    "GROUP BY country_name\n",
    "ORDER BY maximum_debt DESC;\n"
   ]
  }
 ],
 "metadata": {
  "kernelspec": {
   "display_name": "Python 3",
   "language": "python",
   "name": "python3"
  },
  "language_info": {
   "codemirror_mode": {
    "name": "ipython",
    "version": 3
   },
   "file_extension": ".py",
   "mimetype": "text/x-python",
   "name": "python",
   "nbconvert_exporter": "python",
   "pygments_lexer": "ipython3",
   "version": "3.13.1"
  }
 },
 "nbformat": 4,
 "nbformat_minor": 2
}
